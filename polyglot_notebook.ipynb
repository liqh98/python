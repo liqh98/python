{
 "cells": [
  {
   "cell_type": "markdown",
   "metadata": {
    "dotnet_interactive": {
     "language": "csharp"
    },
    "polyglot_notebook": {
     "kernelName": "csharp"
    }
   },
   "source": [
    "# Python tutorial to learn and try in visual studio code on ubuntu 24.10 on ThinkPad x270\n"
   ]
  },
  {
   "cell_type": "markdown",
   "metadata": {},
   "source": [
    "## Table of Contents:\n",
    "* Whetting Your Appetite\n",
    "* Python Interpreter\n",
    "* An introduction to Python\n",
    "* Control flow tools\n",
    "* Data Structure\n",
    "* Modules\n",
    "* Input and Output\n",
    "* Errors and Exception\n",
    "* Classes\n",
    "* Brief tour of standard library i\n",
    "* Brief tour of standard library ii\n",
    "* virtual environment and packages\n",
    "* What now\n",
    "* repl\n",
    "* floating-point arithmetic\n",
    "* appendix"
   ]
  },
  {
   "cell_type": "markdown",
   "metadata": {},
   "source": [
    "### 1 whetting you appetite\n",
    "nothing "
   ]
  },
  {
   "cell_type": "code",
   "execution_count": null,
   "metadata": {},
   "outputs": [],
   "source": [
    "print(\"hello world\")"
   ]
  },
  {
   "cell_type": "markdown",
   "metadata": {},
   "source": [
    "### 2 Python interpreter\n",
    "ipython python3.13 idle\n",
    "jupyter lab; jupyter notebook; jupyter console;\n"
   ]
  },
  {
   "cell_type": "code",
   "execution_count": null,
   "metadata": {},
   "outputs": [],
   "source": [
    "the_world_is_flat = True\n",
    "if the_world_is_flat:\n",
    "    print(\"Be careful not to fall off!\")\n",
    "\n",
    "#_*_ coding: utf-8 _*_\n",
    "#!/usr/bin/python3"
   ]
  },
  {
   "cell_type": "markdown",
   "metadata": {},
   "source": [
    "### 3 Introduction\n",
    "Python there are several types\n",
    "such as int float string"
   ]
  },
  {
   "cell_type": "code",
   "execution_count": null,
   "metadata": {},
   "outputs": [],
   "source": [
    "spam = 1\n",
    "text = \"This is not comment because it in quote comma\""
   ]
  },
  {
   "cell_type": "markdown",
   "metadata": {},
   "source": [
    "#### number\n",
    "int decimal float string\n"
   ]
  },
  {
   "cell_type": "code",
   "execution_count": null,
   "metadata": {},
   "outputs": [],
   "source": [
    "2 + 2\n",
    "50 - 5*6\n",
    "(50 - 5*6) / 4\n",
    "8 /5 \n",
    "17 / 3\n",
    "17 // 3\n",
    "17 % 3\n",
    "5 * 3 + 2\n",
    "\n",
    "5 ** 2\n",
    "2 ** 7\n",
    "\n",
    "width = 20\n",
    "height = 5 * 9\n",
    "width * height\n",
    "4 * 3.75 - 1\n",
    "tax = 12.5 / 100\n",
    "price = 100.50 \n",
    "price * tax\n",
    "# price + _\n",
    "# round(_, 2)"
   ]
  },
  {
   "cell_type": "markdown",
   "metadata": {},
   "source": [
    "#### text string\n",
    "str or print"
   ]
  },
  {
   "cell_type": "code",
   "execution_count": null,
   "metadata": {},
   "outputs": [],
   "source": [
    "'spam eggs'\n",
    "\"paris rabbit got your back :)! Yay!\"\n",
    "\n",
    "'1975'\n",
    "\n",
    "'doesn\\'t'"
   ]
  },
  {
   "cell_type": "code",
   "execution_count": null,
   "metadata": {},
   "outputs": [],
   "source": [
    "word = 'Python'\n",
    "word[0]\n",
    "word[:3] + word[3:]\n"
   ]
  },
  {
   "cell_type": "markdown",
   "metadata": {},
   "source": [
    "### 4 working flow\n",
    "for statement e.g.\n",
    "\n",
    "\n",
    "then we can use list string function: len(); range(); \n",
    "\n",
    "append() method; \n",
    "\n",
    "while; for; if; elif; else;\n",
    "break; continue;\n",
    "\n"
   ]
  },
  {
   "cell_type": "code",
   "execution_count": null,
   "metadata": {},
   "outputs": [],
   "source": [
    "words = ['cat', 'window', 'defenestrate']\n",
    "for w in words:\n",
    "    print(w, len(w))\n",
    "\n",
    "\n",
    "for i in range(5):\n",
    "    print(i)"
   ]
  },
  {
   "cell_type": "markdown",
   "metadata": {},
   "source": [
    "we can use the function range() to use number loop;"
   ]
  },
  {
   "cell_type": "code",
   "execution_count": null,
   "metadata": {},
   "outputs": [],
   "source": [
    "for i in range(3):\n",
    "    print(words[i].title())"
   ]
  },
  {
   "cell_type": "code",
   "execution_count": null,
   "metadata": {},
   "outputs": [],
   "source": [
    "list(range(5, 10))\n",
    "list(range(0, 10, 3))\n",
    "list(range(-10, -100, -30))\n",
    "\n",
    "vocabulary = ['Mary', 'had', 'a', 'little', 'lamb',]\n",
    "\n",
    "for i in range(len(vocabulary)):\n",
    "    print(i, vocabulary[i])\n",
    "\n",
    "\n",
    "range(10)\n",
    "\n",
    "sum(range(4))\n",
    "\n"
   ]
  },
  {
   "cell_type": "markdown",
   "metadata": {},
   "source": [
    "break statement will jump out the nearby for and while loop\n",
    "`"
   ]
  },
  {
   "cell_type": "code",
   "execution_count": null,
   "metadata": {},
   "outputs": [],
   "source": [
    "for n in range(2, 10):\n",
    "    for x in range(2, n):\n",
    "        if n % x == 0:\n",
    "            print(f\"{n} equals {x} * {n//x}\")\n",
    "            break"
   ]
  },
  {
   "cell_type": "markdown",
   "metadata": {},
   "source": [
    "if is continue statement the loop will continue \\\n",
    "the loop in range(); string; list; dicts; enumerate;\n"
   ]
  },
  {
   "cell_type": "code",
   "execution_count": null,
   "metadata": {},
   "outputs": [],
   "source": [
    "knights = {'gallahad': 'the pure', 'robin': 'the brave'}\n",
    "for key, value in knights.items():\n",
    "    print(key, value)\n",
    "\n",
    "\n",
    "# loop in enumerate\n",
    "for i, value in enumerate(['tic', 'tac', 'toe']):\n",
    "    print(i, value)"
   ]
  },
  {
   "cell_type": "code",
   "execution_count": null,
   "metadata": {},
   "outputs": [],
   "source": [
    "for number in range(2, 10):\n",
    "    if number % 2 == 0:\n",
    "        print(f\"Found an even number {number}\")\n",
    "        continue\n",
    "    print(f\"Found an odd number {number}\")\n",
    "\n",
    "    "
   ]
  },
  {
   "cell_type": "code",
   "execution_count": null,
   "metadata": {},
   "outputs": [],
   "source": [
    "for n in range(2, 10):\n",
    "    for x in range(2, n):\n",
    "        if n % x == 0:\n",
    "            print(n, 'equals', x, '*', n//x)\n",
    "            break\n",
    "\n",
    "    else:\n",
    "        print(n, 'is a prime number')"
   ]
  },
  {
   "cell_type": "code",
   "execution_count": 19,
   "metadata": {},
   "outputs": [],
   "source": [
    "def http_error(status):\n",
    "    match status:\n",
    "        case 400:\n",
    "            return \"bad request\"\n",
    "        case 404:\n",
    "            return \"not found\"\n",
    "        case 418:\n",
    "            return \"I'm a teapot\"\n",
    "        case _:\n",
    "            return \"Something's wrong with the internet\""
   ]
  },
  {
   "cell_type": "markdown",
   "metadata": {},
   "source": [
    "use case and | to combine in one model \\\n",
    "\n",
    "```\n",
    "case 401 | 403 | 404:\n",
    "    return \"Not allowed\"\n",
    "\n",
    "\n",
    "```\n",
    "\n",
    "\n",
    "to create functoin\n",
    "\n"
   ]
  },
  {
   "cell_type": "code",
   "execution_count": null,
   "metadata": {},
   "outputs": [],
   "source": [
    "def fib(n):\n",
    "    \"\"\"Print a Fibonacci series less than n.\"\"\"\n",
    "    a, b = 0, 1\n",
    "    while a < n:\n",
    "        print(a, end=' ')\n",
    "        a, b = b, a+b\n",
    "    print()\n",
    "\n",
    "\n",
    "# Now call the function we just defined:\n",
    "fib(2000)\n",
    "\n",
    "f = fib\n",
    "\n",
    "f(100)\n",
    "print(fib(0))"
   ]
  },
  {
   "cell_type": "code",
   "execution_count": null,
   "metadata": {},
   "outputs": [],
   "source": [
    "def fib2(n):\n",
    "    \"\"\"Return the array of Fibonacci serries \"\"\"\n",
    "    result = []\n",
    "    a, b = 0, 1\n",
    "    while a < n:\n",
    "        result.append(a)\n",
    "        a, b = b, a+b\n",
    "    return result\n",
    "\n",
    "fib2(100)\n",
    "\n",
    "print(fib2(100))"
   ]
  },
  {
   "cell_type": "code",
   "execution_count": null,
   "metadata": {},
   "outputs": [],
   "source": [
    "def ask_ok(prompt, retries=4, reminder='Please try again!'):\n",
    "    while True:\n",
    "        reply = input(prompt)\n",
    "        if reply in {'y', 'ye', 'yes'}:\n",
    "            return True\n",
    "        if reply in {'n', 'no', 'nop', 'nope'}:\n",
    "            return False\n",
    "        retries = retries -1\n",
    "        if retries < 0:\n",
    "            raise ValueError('invalid user response')\n",
    "        print(reminder)\n",
    "\n",
    "\n",
    "ask_ok(\"Do you really want to quit it? If yes type 'y', or type 'n'\")\n"
   ]
  },
  {
   "cell_type": "code",
   "execution_count": null,
   "metadata": {},
   "outputs": [],
   "source": [
    "i = 5\n",
    "def function1(arg=i):\n",
    "    print(arg)\n",
    "\n",
    "i = 6\n",
    "\n",
    "function1()\n",
    "\n",
    "# others\n",
    "\n",
    "def function2(a, L=[]):\n",
    "    L.append(a)\n",
    "    return L\n",
    "\n",
    "print(function2(1))\n",
    "print(function2(2))\n",
    "print(function2(3))\n",
    "\n"
   ]
  },
  {
   "cell_type": "code",
   "execution_count": null,
   "metadata": {},
   "outputs": [],
   "source": [
    "def function1(a, List=None):\n",
    "    if List is None:\n",
    "        List = []\n",
    "    List.append(a)\n",
    "    return List\n",
    "\n",
    "print(function1(1))\n"
   ]
  },
  {
   "cell_type": "code",
   "execution_count": 18,
   "metadata": {},
   "outputs": [],
   "source": [
    "def standard_arg(arg):\n",
    "    print(arg)\n",
    "\n",
    "def pos_only_arg(arg, /):\n",
    "    print(arg)\n",
    "\n",
    "def kwd_only_arg(*, arg):\n",
    "    print(arg)\n",
    "\n",
    "def combined_example(pos_only, /, standard, *, kwd_only):\n",
    "    print(pos_only, standard, kwd_only)\n",
    "\n",
    "\n",
    "standard_arg(2)\n",
    "standard_arg(arg=2)\n",
    "\n",
    "pos_only_arg(1)\n",
    "# pos_only_arg(arg=1) is error\n",
    "\n",
    "kwd_only_arg(arg=3)\n"
   ]
  },
  {
   "cell_type": "code",
   "execution_count": null,
   "metadata": {},
   "outputs": [],
   "source": [
    "def my_function():\n",
    "    \"\"\"Do nothing, just read.\n",
    "\n",
    "    It does do nothing.\n",
    "    \"\"\"\n",
    "    pass\n",
    "\n",
    "my_function()\n",
    "print(my_function.__doc__)"
   ]
  },
  {
   "cell_type": "code",
   "execution_count": null,
   "metadata": {},
   "outputs": [],
   "source": [
    "def func(ham: str, eggs: str = 'eggs') -> str:\n",
    "    \"\"\"To eat ham and eggs.\"\"\"\n",
    "    print(\"Annotations:\", func.__annotations__)\n",
    "    print(\"Arguments:\", ham, eggs)\n",
    "    return ham + ' and ' + eggs\n",
    "\n",
    "\n",
    "func('spam')"
   ]
  },
  {
   "cell_type": "markdown",
   "metadata": {},
   "source": [
    "coding style:\n",
    "\n",
    "* indent\n",
    "* line feed\n",
    "* function and class\n",
    "* comment single line\n",
    "* documentary string\n",
    "* `a = f(1, 2) + g(3, 4)`\n",
    "* function and class nameing style: UpperCamelCase\n",
    "* coding: UTF-8 or ascii\n",
    "* "
   ]
  },
  {
   "cell_type": "markdown",
   "metadata": {},
   "source": [
    "#### 5 data structures\n",
    "* list\n",
    "* del\n",
    "* tuples and sequences\n",
    "* sets\n",
    "* dictions"
   ]
  }
 ],
 "metadata": {
  "kernelspec": {
   "display_name": ".venv",
   "language": "python",
   "name": "python3"
  },
  "language_info": {
   "codemirror_mode": {
    "name": "ipython",
    "version": 3
   },
   "file_extension": ".py",
   "mimetype": "text/x-python",
   "name": "python",
   "nbconvert_exporter": "python",
   "pygments_lexer": "ipython3",
   "version": "3.13.0"
  },
  "polyglot_notebook": {
   "kernelInfo": {
    "defaultKernelName": "csharp",
    "items": [
     {
      "aliases": [],
      "languageName": "csharp",
      "name": "csharp"
     }
    ]
   }
  }
 },
 "nbformat": 4,
 "nbformat_minor": 2
}
